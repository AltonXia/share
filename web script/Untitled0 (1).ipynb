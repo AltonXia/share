{
  "nbformat": 4,
  "nbformat_minor": 0,
  "metadata": {
    "colab": {
      "name": "Untitled0.ipynb",
      "provenance": [],
      "collapsed_sections": []
    },
    "kernelspec": {
      "name": "python3",
      "display_name": "Python 3"
    },
    "language_info": {
      "name": "python"
    }
  },
  "cells": [
    {
      "cell_type": "code",
      "metadata": {
        "id": "23pa3mdOhRa2"
      },
      "source": [
        "import bs4,requests\n",
        "import re\n",
        "import pandas as pd\n",
        "import numpy as np"
      ],
      "execution_count": 36,
      "outputs": []
    },
    {
      "cell_type": "code",
      "metadata": {
        "id": "JUHF6_AITG0m"
      },
      "source": [
        "url='https://www.cargurus.com/Cars/inventorylisting/viewDetailsFilterViewInventoryListing.action?sourceContext=carGurusHomePageModel&entitySelectingHelper.selectedEntity=d905&zip=02148'\n",
        "res=requests.get(url)"
      ],
      "execution_count": 37,
      "outputs": []
    },
    {
      "cell_type": "code",
      "metadata": {
        "id": "m9oDLTI6hawx"
      },
      "source": [
        "soup=bs4.BeautifulSoup(res.text)"
      ],
      "execution_count": 38,
      "outputs": []
    },
    {
      "cell_type": "code",
      "metadata": {
        "id": "9M0epyr6hfYx"
      },
      "source": [
        "cartitles=soup.findAll('div',{\"class\":\"titleWrap\"})\n",
        "prices=soup.findAll('span',{\"class\":\"price\"})\n",
        "mile=soup.findAll('p',{\"class\":\"mileage\"})\n",
        "dealer=soup.findAll('div',{\"class\":\"dealerWrap\"})\n",
        "if(len(cartitles) != len(prices)):\n",
        "    print('missing value')"
      ],
      "execution_count": 39,
      "outputs": []
    },
    {
      "cell_type": "code",
      "metadata": {
        "id": "Za17nAkjhlxS"
      },
      "source": [
        "cartitles=[cartitle.text.split('Description')[0] for cartitle in cartitles]"
      ],
      "execution_count": 40,
      "outputs": []
    },
    {
      "cell_type": "code",
      "metadata": {
        "id": "Y6ax4ShChmhq"
      },
      "source": [
        "cartitles=[re.sub('[\\\\n]','',cartitle) for cartitle in cartitles]\n",
        "cartitles=[re.sub('^[ \\t]+|[ \\t]+$','',cartitle) for cartitle in cartitles]"
      ],
      "execution_count": 41,
      "outputs": []
    },
    {
      "cell_type": "code",
      "metadata": {
        "id": "EFiYIN-uhqTT"
      },
      "source": [
        "prices=[price.text.strip(\"\\n\")for price in prices]\n",
        "mileage=[]\n",
        "for i in mile:\n",
        "    mileage.append(i.text)"
      ],
      "execution_count": 42,
      "outputs": []
    },
    {
      "cell_type": "code",
      "metadata": {
        "id": "4RDNrLlAhvuK"
      },
      "source": [
        "df=pd.DataFrame(prices,cartitles)"
      ],
      "execution_count": 43,
      "outputs": []
    },
    {
      "cell_type": "code",
      "metadata": {
        "id": "A9bG05wAhzX6"
      },
      "source": [
        "df=df.reset_index()\n",
        "df.columns=['model','price']\n",
        "df['mileage']=mileage"
      ],
      "execution_count": 44,
      "outputs": []
    },
    {
      "cell_type": "code",
      "metadata": {
        "colab": {
          "base_uri": "https://localhost:8080/",
          "height": 617
        },
        "id": "L8tkN-tjh2UK",
        "outputId": "e6905e69-422d-4d53-82e5-7bcc64cb8c0d"
      },
      "source": [
        "df"
      ],
      "execution_count": 45,
      "outputs": [
        {
          "output_type": "execute_result",
          "data": {
            "text/html": [
              "<div>\n",
              "<style scoped>\n",
              "    .dataframe tbody tr th:only-of-type {\n",
              "        vertical-align: middle;\n",
              "    }\n",
              "\n",
              "    .dataframe tbody tr th {\n",
              "        vertical-align: top;\n",
              "    }\n",
              "\n",
              "    .dataframe thead th {\n",
              "        text-align: right;\n",
              "    }\n",
              "</style>\n",
              "<table border=\"1\" class=\"dataframe\">\n",
              "  <thead>\n",
              "    <tr style=\"text-align: right;\">\n",
              "      <th></th>\n",
              "      <th>model</th>\n",
              "      <th>price</th>\n",
              "      <th>mileage</th>\n",
              "    </tr>\n",
              "  </thead>\n",
              "  <tbody>\n",
              "    <tr>\n",
              "      <th>0</th>\n",
              "      <td>2014 Jeep Compass Sport</td>\n",
              "      <td>$11,999</td>\n",
              "      <td>68,029 mi</td>\n",
              "    </tr>\n",
              "    <tr>\n",
              "      <th>1</th>\n",
              "      <td>2020 Jeep Compass Limited 4WD</td>\n",
              "      <td>$25,395</td>\n",
              "      <td>10,820 mi</td>\n",
              "    </tr>\n",
              "    <tr>\n",
              "      <th>2</th>\n",
              "      <td>2020 Jeep Compass Limited 4WD</td>\n",
              "      <td>$24,795</td>\n",
              "      <td>11,712 mi</td>\n",
              "    </tr>\n",
              "    <tr>\n",
              "      <th>3</th>\n",
              "      <td>2015 Jeep Compass Latitude 4WD</td>\n",
              "      <td>$10,995</td>\n",
              "      <td>65,000 mi</td>\n",
              "    </tr>\n",
              "    <tr>\n",
              "      <th>4</th>\n",
              "      <td>2020 Jeep Compass Limited 4WD</td>\n",
              "      <td>$19,995</td>\n",
              "      <td>33,951 mi</td>\n",
              "    </tr>\n",
              "    <tr>\n",
              "      <th>5</th>\n",
              "      <td>2019 Jeep Compass Trailhawk 4WD</td>\n",
              "      <td>$19,706</td>\n",
              "      <td>48,010 mi</td>\n",
              "    </tr>\n",
              "    <tr>\n",
              "      <th>6</th>\n",
              "      <td>2019 Jeep Compass Limited 4WD</td>\n",
              "      <td>$20,733</td>\n",
              "      <td>21,193 mi</td>\n",
              "    </tr>\n",
              "    <tr>\n",
              "      <th>7</th>\n",
              "      <td>2016 Jeep Compass High Altitude Edition 4WD</td>\n",
              "      <td>$13,600</td>\n",
              "      <td>62,094 mi</td>\n",
              "    </tr>\n",
              "    <tr>\n",
              "      <th>8</th>\n",
              "      <td>2018 Jeep Compass Limited 4WD</td>\n",
              "      <td>$19,790</td>\n",
              "      <td>36,406 mi</td>\n",
              "    </tr>\n",
              "    <tr>\n",
              "      <th>9</th>\n",
              "      <td>2020 Jeep Compass Limited 4WD</td>\n",
              "      <td>$23,294</td>\n",
              "      <td>13,097 mi</td>\n",
              "    </tr>\n",
              "    <tr>\n",
              "      <th>10</th>\n",
              "      <td>2012 Jeep Compass Latitude 4WD</td>\n",
              "      <td>$7,500</td>\n",
              "      <td>92,658 mi</td>\n",
              "    </tr>\n",
              "    <tr>\n",
              "      <th>11</th>\n",
              "      <td>2016 Jeep Compass Latitude 4WD</td>\n",
              "      <td>$11,990</td>\n",
              "      <td>75,401 mi</td>\n",
              "    </tr>\n",
              "    <tr>\n",
              "      <th>12</th>\n",
              "      <td>2018 Jeep Compass Latitude 4WD</td>\n",
              "      <td>$18,987</td>\n",
              "      <td>18,502 mi</td>\n",
              "    </tr>\n",
              "    <tr>\n",
              "      <th>13</th>\n",
              "      <td>2012 Jeep Compass Limited 4WD</td>\n",
              "      <td>$8,399</td>\n",
              "      <td>106,069 mi</td>\n",
              "    </tr>\n",
              "    <tr>\n",
              "      <th>14</th>\n",
              "      <td>2016 Jeep Compass Sport 4WD</td>\n",
              "      <td>$12,495</td>\n",
              "      <td>60,588 mi</td>\n",
              "    </tr>\n",
              "    <tr>\n",
              "      <th>15</th>\n",
              "      <td>2020 Jeep Compass Latitude 4WD</td>\n",
              "      <td>$20,750</td>\n",
              "      <td>16,680 mi</td>\n",
              "    </tr>\n",
              "    <tr>\n",
              "      <th>16</th>\n",
              "      <td>2018 Jeep Compass Limited 4WD</td>\n",
              "      <td>$20,998</td>\n",
              "      <td>18,724 mi</td>\n",
              "    </tr>\n",
              "    <tr>\n",
              "      <th>17</th>\n",
              "      <td>2018 Jeep Compass Latitude 4WD</td>\n",
              "      <td>$17,948</td>\n",
              "      <td>36,036 mi</td>\n",
              "    </tr>\n",
              "    <tr>\n",
              "      <th>18</th>\n",
              "      <td>2019 Jeep Compass Latitude 4WD</td>\n",
              "      <td>$23,500</td>\n",
              "      <td>3,186 mi</td>\n",
              "    </tr>\n",
              "  </tbody>\n",
              "</table>\n",
              "</div>"
            ],
            "text/plain": [
              "                                          model    price     mileage\n",
              "0                       2014 Jeep Compass Sport  $11,999   68,029 mi\n",
              "1                 2020 Jeep Compass Limited 4WD  $25,395   10,820 mi\n",
              "2                 2020 Jeep Compass Limited 4WD  $24,795   11,712 mi\n",
              "3                2015 Jeep Compass Latitude 4WD  $10,995   65,000 mi\n",
              "4                 2020 Jeep Compass Limited 4WD  $19,995   33,951 mi\n",
              "5               2019 Jeep Compass Trailhawk 4WD  $19,706   48,010 mi\n",
              "6                 2019 Jeep Compass Limited 4WD  $20,733   21,193 mi\n",
              "7   2016 Jeep Compass High Altitude Edition 4WD  $13,600   62,094 mi\n",
              "8                 2018 Jeep Compass Limited 4WD  $19,790   36,406 mi\n",
              "9                 2020 Jeep Compass Limited 4WD  $23,294   13,097 mi\n",
              "10               2012 Jeep Compass Latitude 4WD   $7,500   92,658 mi\n",
              "11               2016 Jeep Compass Latitude 4WD  $11,990   75,401 mi\n",
              "12               2018 Jeep Compass Latitude 4WD  $18,987   18,502 mi\n",
              "13                2012 Jeep Compass Limited 4WD   $8,399  106,069 mi\n",
              "14                  2016 Jeep Compass Sport 4WD  $12,495   60,588 mi\n",
              "15               2020 Jeep Compass Latitude 4WD  $20,750   16,680 mi\n",
              "16                2018 Jeep Compass Limited 4WD  $20,998   18,724 mi\n",
              "17               2018 Jeep Compass Latitude 4WD  $17,948   36,036 mi\n",
              "18               2019 Jeep Compass Latitude 4WD  $23,500    3,186 mi"
            ]
          },
          "metadata": {
            "tags": []
          },
          "execution_count": 45
        }
      ]
    },
    {
      "cell_type": "code",
      "metadata": {
        "id": "-O84tb8eh9oP",
        "colab": {
          "base_uri": "https://localhost:8080/"
        },
        "outputId": "0ae9c044-9907-4f1f-f01e-cdcb253263c7"
      },
      "source": [
        "meanprice=df['price'].str.strip('$').str.replace(',','').astype(int)\n",
        "meanprice.mean()"
      ],
      "execution_count": 46,
      "outputs": [
        {
          "output_type": "execute_result",
          "data": {
            "text/plain": [
              "17519.42105263158"
            ]
          },
          "metadata": {
            "tags": []
          },
          "execution_count": 46
        }
      ]
    },
    {
      "cell_type": "code",
      "metadata": {
        "colab": {
          "base_uri": "https://localhost:8080/"
        },
        "id": "U9RBiiRbQN2a",
        "outputId": "751a2d14-aefb-475e-9b8d-c6b58707fe7a"
      },
      "source": [
        "mile=df['mileage'].str.strip('mi').str.replace(',','').astype(int)\n",
        "mile.mean()"
      ],
      "execution_count": 47,
      "outputs": [
        {
          "output_type": "execute_result",
          "data": {
            "text/plain": [
              "42008.21052631579"
            ]
          },
          "metadata": {
            "tags": []
          },
          "execution_count": 47
        }
      ]
    },
    {
      "cell_type": "code",
      "metadata": {
        "id": "BU5ReUqFVWwQ",
        "colab": {
          "base_uri": "https://localhost:8080/",
          "height": 617
        },
        "outputId": "8684db64-b80f-429f-c0e9-75017d0fb867"
      },
      "source": [
        "df.sort_values('model')"
      ],
      "execution_count": 48,
      "outputs": [
        {
          "output_type": "execute_result",
          "data": {
            "text/html": [
              "<div>\n",
              "<style scoped>\n",
              "    .dataframe tbody tr th:only-of-type {\n",
              "        vertical-align: middle;\n",
              "    }\n",
              "\n",
              "    .dataframe tbody tr th {\n",
              "        vertical-align: top;\n",
              "    }\n",
              "\n",
              "    .dataframe thead th {\n",
              "        text-align: right;\n",
              "    }\n",
              "</style>\n",
              "<table border=\"1\" class=\"dataframe\">\n",
              "  <thead>\n",
              "    <tr style=\"text-align: right;\">\n",
              "      <th></th>\n",
              "      <th>model</th>\n",
              "      <th>price</th>\n",
              "      <th>mileage</th>\n",
              "    </tr>\n",
              "  </thead>\n",
              "  <tbody>\n",
              "    <tr>\n",
              "      <th>10</th>\n",
              "      <td>2012 Jeep Compass Latitude 4WD</td>\n",
              "      <td>$7,500</td>\n",
              "      <td>92,658 mi</td>\n",
              "    </tr>\n",
              "    <tr>\n",
              "      <th>13</th>\n",
              "      <td>2012 Jeep Compass Limited 4WD</td>\n",
              "      <td>$8,399</td>\n",
              "      <td>106,069 mi</td>\n",
              "    </tr>\n",
              "    <tr>\n",
              "      <th>0</th>\n",
              "      <td>2014 Jeep Compass Sport</td>\n",
              "      <td>$11,999</td>\n",
              "      <td>68,029 mi</td>\n",
              "    </tr>\n",
              "    <tr>\n",
              "      <th>3</th>\n",
              "      <td>2015 Jeep Compass Latitude 4WD</td>\n",
              "      <td>$10,995</td>\n",
              "      <td>65,000 mi</td>\n",
              "    </tr>\n",
              "    <tr>\n",
              "      <th>7</th>\n",
              "      <td>2016 Jeep Compass High Altitude Edition 4WD</td>\n",
              "      <td>$13,600</td>\n",
              "      <td>62,094 mi</td>\n",
              "    </tr>\n",
              "    <tr>\n",
              "      <th>11</th>\n",
              "      <td>2016 Jeep Compass Latitude 4WD</td>\n",
              "      <td>$11,990</td>\n",
              "      <td>75,401 mi</td>\n",
              "    </tr>\n",
              "    <tr>\n",
              "      <th>14</th>\n",
              "      <td>2016 Jeep Compass Sport 4WD</td>\n",
              "      <td>$12,495</td>\n",
              "      <td>60,588 mi</td>\n",
              "    </tr>\n",
              "    <tr>\n",
              "      <th>12</th>\n",
              "      <td>2018 Jeep Compass Latitude 4WD</td>\n",
              "      <td>$18,987</td>\n",
              "      <td>18,502 mi</td>\n",
              "    </tr>\n",
              "    <tr>\n",
              "      <th>17</th>\n",
              "      <td>2018 Jeep Compass Latitude 4WD</td>\n",
              "      <td>$17,948</td>\n",
              "      <td>36,036 mi</td>\n",
              "    </tr>\n",
              "    <tr>\n",
              "      <th>16</th>\n",
              "      <td>2018 Jeep Compass Limited 4WD</td>\n",
              "      <td>$20,998</td>\n",
              "      <td>18,724 mi</td>\n",
              "    </tr>\n",
              "    <tr>\n",
              "      <th>8</th>\n",
              "      <td>2018 Jeep Compass Limited 4WD</td>\n",
              "      <td>$19,790</td>\n",
              "      <td>36,406 mi</td>\n",
              "    </tr>\n",
              "    <tr>\n",
              "      <th>18</th>\n",
              "      <td>2019 Jeep Compass Latitude 4WD</td>\n",
              "      <td>$23,500</td>\n",
              "      <td>3,186 mi</td>\n",
              "    </tr>\n",
              "    <tr>\n",
              "      <th>6</th>\n",
              "      <td>2019 Jeep Compass Limited 4WD</td>\n",
              "      <td>$20,733</td>\n",
              "      <td>21,193 mi</td>\n",
              "    </tr>\n",
              "    <tr>\n",
              "      <th>5</th>\n",
              "      <td>2019 Jeep Compass Trailhawk 4WD</td>\n",
              "      <td>$19,706</td>\n",
              "      <td>48,010 mi</td>\n",
              "    </tr>\n",
              "    <tr>\n",
              "      <th>15</th>\n",
              "      <td>2020 Jeep Compass Latitude 4WD</td>\n",
              "      <td>$20,750</td>\n",
              "      <td>16,680 mi</td>\n",
              "    </tr>\n",
              "    <tr>\n",
              "      <th>4</th>\n",
              "      <td>2020 Jeep Compass Limited 4WD</td>\n",
              "      <td>$19,995</td>\n",
              "      <td>33,951 mi</td>\n",
              "    </tr>\n",
              "    <tr>\n",
              "      <th>2</th>\n",
              "      <td>2020 Jeep Compass Limited 4WD</td>\n",
              "      <td>$24,795</td>\n",
              "      <td>11,712 mi</td>\n",
              "    </tr>\n",
              "    <tr>\n",
              "      <th>1</th>\n",
              "      <td>2020 Jeep Compass Limited 4WD</td>\n",
              "      <td>$25,395</td>\n",
              "      <td>10,820 mi</td>\n",
              "    </tr>\n",
              "    <tr>\n",
              "      <th>9</th>\n",
              "      <td>2020 Jeep Compass Limited 4WD</td>\n",
              "      <td>$23,294</td>\n",
              "      <td>13,097 mi</td>\n",
              "    </tr>\n",
              "  </tbody>\n",
              "</table>\n",
              "</div>"
            ],
            "text/plain": [
              "                                          model    price     mileage\n",
              "10               2012 Jeep Compass Latitude 4WD   $7,500   92,658 mi\n",
              "13                2012 Jeep Compass Limited 4WD   $8,399  106,069 mi\n",
              "0                       2014 Jeep Compass Sport  $11,999   68,029 mi\n",
              "3                2015 Jeep Compass Latitude 4WD  $10,995   65,000 mi\n",
              "7   2016 Jeep Compass High Altitude Edition 4WD  $13,600   62,094 mi\n",
              "11               2016 Jeep Compass Latitude 4WD  $11,990   75,401 mi\n",
              "14                  2016 Jeep Compass Sport 4WD  $12,495   60,588 mi\n",
              "12               2018 Jeep Compass Latitude 4WD  $18,987   18,502 mi\n",
              "17               2018 Jeep Compass Latitude 4WD  $17,948   36,036 mi\n",
              "16                2018 Jeep Compass Limited 4WD  $20,998   18,724 mi\n",
              "8                 2018 Jeep Compass Limited 4WD  $19,790   36,406 mi\n",
              "18               2019 Jeep Compass Latitude 4WD  $23,500    3,186 mi\n",
              "6                 2019 Jeep Compass Limited 4WD  $20,733   21,193 mi\n",
              "5               2019 Jeep Compass Trailhawk 4WD  $19,706   48,010 mi\n",
              "15               2020 Jeep Compass Latitude 4WD  $20,750   16,680 mi\n",
              "4                 2020 Jeep Compass Limited 4WD  $19,995   33,951 mi\n",
              "2                 2020 Jeep Compass Limited 4WD  $24,795   11,712 mi\n",
              "1                 2020 Jeep Compass Limited 4WD  $25,395   10,820 mi\n",
              "9                 2020 Jeep Compass Limited 4WD  $23,294   13,097 mi"
            ]
          },
          "metadata": {
            "tags": []
          },
          "execution_count": 48
        }
      ]
    },
    {
      "cell_type": "code",
      "metadata": {
        "id": "sHrJrRF9r-o9"
      },
      "source": [
        ""
      ],
      "execution_count": null,
      "outputs": []
    }
  ]
}